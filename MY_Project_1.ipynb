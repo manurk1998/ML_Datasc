{
  "nbformat": 4,
  "nbformat_minor": 0,
  "metadata": {
    "colab": {
      "provenance": [],
      "authorship_tag": "ABX9TyPwkTWDsa/rCAd3/I7lfUeC",
      "include_colab_link": true
    },
    "kernelspec": {
      "name": "python3",
      "display_name": "Python 3"
    },
    "language_info": {
      "name": "python"
    }
  },
  "cells": [
    {
      "cell_type": "markdown",
      "metadata": {
        "id": "view-in-github",
        "colab_type": "text"
      },
      "source": [
        "<a href=\"https://colab.research.google.com/github/manurk1998/ML_Datasc/blob/main/MY_Project_1.ipynb\" target=\"_parent\"><img src=\"https://colab.research.google.com/assets/colab-badge.svg\" alt=\"Open In Colab\"/></a>"
      ]
    },
    {
      "cell_type": "markdown",
      "source": [
        "# **About Dataset**\n",
        "The dataset is imbalanced.\n",
        "Most features are categorical (Nominal, Ordinal, Binary), some with high cardinality.\n",
        "Missing imputation can be a part of your pipeline as well.\n",
        "Features\n",
        "\n",
        "enrollee_id : Unique ID for candidate\n",
        "\n",
        "city: City code\n",
        "\n",
        "city_ development _index : Developement index of the city (scaled)\n",
        "\n",
        "gender: Gender of candidate\n",
        "\n",
        "relevent_experience: Relevant experience of candidate\n",
        "\n",
        "enrolled_university: Type of University course enrolled if any\n",
        "\n",
        "education_level: Education level of candidate\n",
        "\n",
        "major_discipline :Education major discipline of candidate\n",
        "\n",
        "experience: Candidate total experience in years\n",
        "\n",
        "company_size: No of employees in current employer's company\n",
        "\n",
        "company_type : Type of current employer\n",
        "\n",
        "last_new_job: Difference in years between previous job and current job\n",
        "\n",
        "training_hours: training hours completed\n",
        "\n",
        "target: 0 – Not looking for job change, 1 – Looking for a job change\n",
        "\n",
        "Inspiration\n",
        "Predict the probability of a candidate will work for the company\n",
        "Interpret model(s) such a way that illustrate which features affect candidate decision\n",
        "\n",
        "for more details:-\n",
        "https://www.kaggle.com/arashnic/hr-analytics-job-change-of-data-scientists/tasks?taskId=3015"
      ],
      "metadata": {
        "id": "wLOKxCR6G1v0"
      }
    },
    {
      "cell_type": "code",
      "execution_count": null,
      "metadata": {
        "colab": {
          "base_uri": "https://localhost:8080/",
          "height": 574
        },
        "id": "5AhyqudVY3ks",
        "outputId": "0a644e45-5cbd-4878-b1be-4db76836d1f6"
      },
      "outputs": [
        {
          "output_type": "execute_result",
          "data": {
            "text/plain": [
              "       enrollee_id      city  city_development_index gender  \\\n",
              "0             8949  city_103                   0.920   Male   \n",
              "1            29725   city_40                   0.776   Male   \n",
              "2            11561   city_21                   0.624    NaN   \n",
              "3            33241  city_115                   0.789    NaN   \n",
              "4              666  city_162                   0.767   Male   \n",
              "...            ...       ...                     ...    ...   \n",
              "19153         7386  city_173                   0.878   Male   \n",
              "19154        31398  city_103                   0.920   Male   \n",
              "19155        24576  city_103                   0.920   Male   \n",
              "19156         5756   city_65                   0.802   Male   \n",
              "19157        23834   city_67                   0.855    NaN   \n",
              "\n",
              "           relevent_experience enrolled_university education_level  \\\n",
              "0      Has relevent experience       no_enrollment        Graduate   \n",
              "1       No relevent experience       no_enrollment        Graduate   \n",
              "2       No relevent experience    Full time course        Graduate   \n",
              "3       No relevent experience                 NaN        Graduate   \n",
              "4      Has relevent experience       no_enrollment         Masters   \n",
              "...                        ...                 ...             ...   \n",
              "19153   No relevent experience       no_enrollment        Graduate   \n",
              "19154  Has relevent experience       no_enrollment        Graduate   \n",
              "19155  Has relevent experience       no_enrollment        Graduate   \n",
              "19156  Has relevent experience       no_enrollment     High School   \n",
              "19157   No relevent experience       no_enrollment  Primary School   \n",
              "\n",
              "      major_discipline experience company_size    company_type last_new_job  \\\n",
              "0                 STEM        >20          NaN             NaN            1   \n",
              "1                 STEM         15        50-99         Pvt Ltd           >4   \n",
              "2                 STEM          5          NaN             NaN        never   \n",
              "3      Business Degree         <1          NaN         Pvt Ltd        never   \n",
              "4                 STEM        >20        50-99  Funded Startup            4   \n",
              "...                ...        ...          ...             ...          ...   \n",
              "19153       Humanities         14          NaN             NaN            1   \n",
              "19154             STEM         14          NaN             NaN            4   \n",
              "19155             STEM        >20        50-99         Pvt Ltd            4   \n",
              "19156              NaN         <1      500-999         Pvt Ltd            2   \n",
              "19157              NaN          2          NaN             NaN            1   \n",
              "\n",
              "       training_hours  target  \n",
              "0                  36     1.0  \n",
              "1                  47     0.0  \n",
              "2                  83     0.0  \n",
              "3                  52     1.0  \n",
              "4                   8     0.0  \n",
              "...               ...     ...  \n",
              "19153              42     1.0  \n",
              "19154              52     1.0  \n",
              "19155              44     0.0  \n",
              "19156              97     0.0  \n",
              "19157             127     0.0  \n",
              "\n",
              "[19158 rows x 14 columns]"
            ],
            "text/html": [
              "\n",
              "  <div id=\"df-0fea92bc-f5c8-4bfd-8d5c-8b4f353648fb\">\n",
              "    <div class=\"colab-df-container\">\n",
              "      <div>\n",
              "<style scoped>\n",
              "    .dataframe tbody tr th:only-of-type {\n",
              "        vertical-align: middle;\n",
              "    }\n",
              "\n",
              "    .dataframe tbody tr th {\n",
              "        vertical-align: top;\n",
              "    }\n",
              "\n",
              "    .dataframe thead th {\n",
              "        text-align: right;\n",
              "    }\n",
              "</style>\n",
              "<table border=\"1\" class=\"dataframe\">\n",
              "  <thead>\n",
              "    <tr style=\"text-align: right;\">\n",
              "      <th></th>\n",
              "      <th>enrollee_id</th>\n",
              "      <th>city</th>\n",
              "      <th>city_development_index</th>\n",
              "      <th>gender</th>\n",
              "      <th>relevent_experience</th>\n",
              "      <th>enrolled_university</th>\n",
              "      <th>education_level</th>\n",
              "      <th>major_discipline</th>\n",
              "      <th>experience</th>\n",
              "      <th>company_size</th>\n",
              "      <th>company_type</th>\n",
              "      <th>last_new_job</th>\n",
              "      <th>training_hours</th>\n",
              "      <th>target</th>\n",
              "    </tr>\n",
              "  </thead>\n",
              "  <tbody>\n",
              "    <tr>\n",
              "      <th>0</th>\n",
              "      <td>8949</td>\n",
              "      <td>city_103</td>\n",
              "      <td>0.920</td>\n",
              "      <td>Male</td>\n",
              "      <td>Has relevent experience</td>\n",
              "      <td>no_enrollment</td>\n",
              "      <td>Graduate</td>\n",
              "      <td>STEM</td>\n",
              "      <td>&gt;20</td>\n",
              "      <td>NaN</td>\n",
              "      <td>NaN</td>\n",
              "      <td>1</td>\n",
              "      <td>36</td>\n",
              "      <td>1.0</td>\n",
              "    </tr>\n",
              "    <tr>\n",
              "      <th>1</th>\n",
              "      <td>29725</td>\n",
              "      <td>city_40</td>\n",
              "      <td>0.776</td>\n",
              "      <td>Male</td>\n",
              "      <td>No relevent experience</td>\n",
              "      <td>no_enrollment</td>\n",
              "      <td>Graduate</td>\n",
              "      <td>STEM</td>\n",
              "      <td>15</td>\n",
              "      <td>50-99</td>\n",
              "      <td>Pvt Ltd</td>\n",
              "      <td>&gt;4</td>\n",
              "      <td>47</td>\n",
              "      <td>0.0</td>\n",
              "    </tr>\n",
              "    <tr>\n",
              "      <th>2</th>\n",
              "      <td>11561</td>\n",
              "      <td>city_21</td>\n",
              "      <td>0.624</td>\n",
              "      <td>NaN</td>\n",
              "      <td>No relevent experience</td>\n",
              "      <td>Full time course</td>\n",
              "      <td>Graduate</td>\n",
              "      <td>STEM</td>\n",
              "      <td>5</td>\n",
              "      <td>NaN</td>\n",
              "      <td>NaN</td>\n",
              "      <td>never</td>\n",
              "      <td>83</td>\n",
              "      <td>0.0</td>\n",
              "    </tr>\n",
              "    <tr>\n",
              "      <th>3</th>\n",
              "      <td>33241</td>\n",
              "      <td>city_115</td>\n",
              "      <td>0.789</td>\n",
              "      <td>NaN</td>\n",
              "      <td>No relevent experience</td>\n",
              "      <td>NaN</td>\n",
              "      <td>Graduate</td>\n",
              "      <td>Business Degree</td>\n",
              "      <td>&lt;1</td>\n",
              "      <td>NaN</td>\n",
              "      <td>Pvt Ltd</td>\n",
              "      <td>never</td>\n",
              "      <td>52</td>\n",
              "      <td>1.0</td>\n",
              "    </tr>\n",
              "    <tr>\n",
              "      <th>4</th>\n",
              "      <td>666</td>\n",
              "      <td>city_162</td>\n",
              "      <td>0.767</td>\n",
              "      <td>Male</td>\n",
              "      <td>Has relevent experience</td>\n",
              "      <td>no_enrollment</td>\n",
              "      <td>Masters</td>\n",
              "      <td>STEM</td>\n",
              "      <td>&gt;20</td>\n",
              "      <td>50-99</td>\n",
              "      <td>Funded Startup</td>\n",
              "      <td>4</td>\n",
              "      <td>8</td>\n",
              "      <td>0.0</td>\n",
              "    </tr>\n",
              "    <tr>\n",
              "      <th>...</th>\n",
              "      <td>...</td>\n",
              "      <td>...</td>\n",
              "      <td>...</td>\n",
              "      <td>...</td>\n",
              "      <td>...</td>\n",
              "      <td>...</td>\n",
              "      <td>...</td>\n",
              "      <td>...</td>\n",
              "      <td>...</td>\n",
              "      <td>...</td>\n",
              "      <td>...</td>\n",
              "      <td>...</td>\n",
              "      <td>...</td>\n",
              "      <td>...</td>\n",
              "    </tr>\n",
              "    <tr>\n",
              "      <th>19153</th>\n",
              "      <td>7386</td>\n",
              "      <td>city_173</td>\n",
              "      <td>0.878</td>\n",
              "      <td>Male</td>\n",
              "      <td>No relevent experience</td>\n",
              "      <td>no_enrollment</td>\n",
              "      <td>Graduate</td>\n",
              "      <td>Humanities</td>\n",
              "      <td>14</td>\n",
              "      <td>NaN</td>\n",
              "      <td>NaN</td>\n",
              "      <td>1</td>\n",
              "      <td>42</td>\n",
              "      <td>1.0</td>\n",
              "    </tr>\n",
              "    <tr>\n",
              "      <th>19154</th>\n",
              "      <td>31398</td>\n",
              "      <td>city_103</td>\n",
              "      <td>0.920</td>\n",
              "      <td>Male</td>\n",
              "      <td>Has relevent experience</td>\n",
              "      <td>no_enrollment</td>\n",
              "      <td>Graduate</td>\n",
              "      <td>STEM</td>\n",
              "      <td>14</td>\n",
              "      <td>NaN</td>\n",
              "      <td>NaN</td>\n",
              "      <td>4</td>\n",
              "      <td>52</td>\n",
              "      <td>1.0</td>\n",
              "    </tr>\n",
              "    <tr>\n",
              "      <th>19155</th>\n",
              "      <td>24576</td>\n",
              "      <td>city_103</td>\n",
              "      <td>0.920</td>\n",
              "      <td>Male</td>\n",
              "      <td>Has relevent experience</td>\n",
              "      <td>no_enrollment</td>\n",
              "      <td>Graduate</td>\n",
              "      <td>STEM</td>\n",
              "      <td>&gt;20</td>\n",
              "      <td>50-99</td>\n",
              "      <td>Pvt Ltd</td>\n",
              "      <td>4</td>\n",
              "      <td>44</td>\n",
              "      <td>0.0</td>\n",
              "    </tr>\n",
              "    <tr>\n",
              "      <th>19156</th>\n",
              "      <td>5756</td>\n",
              "      <td>city_65</td>\n",
              "      <td>0.802</td>\n",
              "      <td>Male</td>\n",
              "      <td>Has relevent experience</td>\n",
              "      <td>no_enrollment</td>\n",
              "      <td>High School</td>\n",
              "      <td>NaN</td>\n",
              "      <td>&lt;1</td>\n",
              "      <td>500-999</td>\n",
              "      <td>Pvt Ltd</td>\n",
              "      <td>2</td>\n",
              "      <td>97</td>\n",
              "      <td>0.0</td>\n",
              "    </tr>\n",
              "    <tr>\n",
              "      <th>19157</th>\n",
              "      <td>23834</td>\n",
              "      <td>city_67</td>\n",
              "      <td>0.855</td>\n",
              "      <td>NaN</td>\n",
              "      <td>No relevent experience</td>\n",
              "      <td>no_enrollment</td>\n",
              "      <td>Primary School</td>\n",
              "      <td>NaN</td>\n",
              "      <td>2</td>\n",
              "      <td>NaN</td>\n",
              "      <td>NaN</td>\n",
              "      <td>1</td>\n",
              "      <td>127</td>\n",
              "      <td>0.0</td>\n",
              "    </tr>\n",
              "  </tbody>\n",
              "</table>\n",
              "<p>19158 rows × 14 columns</p>\n",
              "</div>\n",
              "      <button class=\"colab-df-convert\" onclick=\"convertToInteractive('df-0fea92bc-f5c8-4bfd-8d5c-8b4f353648fb')\"\n",
              "              title=\"Convert this dataframe to an interactive table.\"\n",
              "              style=\"display:none;\">\n",
              "        \n",
              "  <svg xmlns=\"http://www.w3.org/2000/svg\" height=\"24px\"viewBox=\"0 0 24 24\"\n",
              "       width=\"24px\">\n",
              "    <path d=\"M0 0h24v24H0V0z\" fill=\"none\"/>\n",
              "    <path d=\"M18.56 5.44l.94 2.06.94-2.06 2.06-.94-2.06-.94-.94-2.06-.94 2.06-2.06.94zm-11 1L8.5 8.5l.94-2.06 2.06-.94-2.06-.94L8.5 2.5l-.94 2.06-2.06.94zm10 10l.94 2.06.94-2.06 2.06-.94-2.06-.94-.94-2.06-.94 2.06-2.06.94z\"/><path d=\"M17.41 7.96l-1.37-1.37c-.4-.4-.92-.59-1.43-.59-.52 0-1.04.2-1.43.59L10.3 9.45l-7.72 7.72c-.78.78-.78 2.05 0 2.83L4 21.41c.39.39.9.59 1.41.59.51 0 1.02-.2 1.41-.59l7.78-7.78 2.81-2.81c.8-.78.8-2.07 0-2.86zM5.41 20L4 18.59l7.72-7.72 1.47 1.35L5.41 20z\"/>\n",
              "  </svg>\n",
              "      </button>\n",
              "      \n",
              "  <style>\n",
              "    .colab-df-container {\n",
              "      display:flex;\n",
              "      flex-wrap:wrap;\n",
              "      gap: 12px;\n",
              "    }\n",
              "\n",
              "    .colab-df-convert {\n",
              "      background-color: #E8F0FE;\n",
              "      border: none;\n",
              "      border-radius: 50%;\n",
              "      cursor: pointer;\n",
              "      display: none;\n",
              "      fill: #1967D2;\n",
              "      height: 32px;\n",
              "      padding: 0 0 0 0;\n",
              "      width: 32px;\n",
              "    }\n",
              "\n",
              "    .colab-df-convert:hover {\n",
              "      background-color: #E2EBFA;\n",
              "      box-shadow: 0px 1px 2px rgba(60, 64, 67, 0.3), 0px 1px 3px 1px rgba(60, 64, 67, 0.15);\n",
              "      fill: #174EA6;\n",
              "    }\n",
              "\n",
              "    [theme=dark] .colab-df-convert {\n",
              "      background-color: #3B4455;\n",
              "      fill: #D2E3FC;\n",
              "    }\n",
              "\n",
              "    [theme=dark] .colab-df-convert:hover {\n",
              "      background-color: #434B5C;\n",
              "      box-shadow: 0px 1px 3px 1px rgba(0, 0, 0, 0.15);\n",
              "      filter: drop-shadow(0px 1px 2px rgba(0, 0, 0, 0.3));\n",
              "      fill: #FFFFFF;\n",
              "    }\n",
              "  </style>\n",
              "\n",
              "      <script>\n",
              "        const buttonEl =\n",
              "          document.querySelector('#df-0fea92bc-f5c8-4bfd-8d5c-8b4f353648fb button.colab-df-convert');\n",
              "        buttonEl.style.display =\n",
              "          google.colab.kernel.accessAllowed ? 'block' : 'none';\n",
              "\n",
              "        async function convertToInteractive(key) {\n",
              "          const element = document.querySelector('#df-0fea92bc-f5c8-4bfd-8d5c-8b4f353648fb');\n",
              "          const dataTable =\n",
              "            await google.colab.kernel.invokeFunction('convertToInteractive',\n",
              "                                                     [key], {});\n",
              "          if (!dataTable) return;\n",
              "\n",
              "          const docLinkHtml = 'Like what you see? Visit the ' +\n",
              "            '<a target=\"_blank\" href=https://colab.research.google.com/notebooks/data_table.ipynb>data table notebook</a>'\n",
              "            + ' to learn more about interactive tables.';\n",
              "          element.innerHTML = '';\n",
              "          dataTable['output_type'] = 'display_data';\n",
              "          await google.colab.output.renderOutput(dataTable, element);\n",
              "          const docLink = document.createElement('div');\n",
              "          docLink.innerHTML = docLinkHtml;\n",
              "          element.appendChild(docLink);\n",
              "        }\n",
              "      </script>\n",
              "    </div>\n",
              "  </div>\n",
              "  "
            ]
          },
          "metadata": {},
          "execution_count": 64
        }
      ],
      "source": [
        "# importing required  librararies......\n",
        "import pandas as pd\n",
        "from sklearn.preprocessing import LabelEncoder\n",
        "from sklearn.preprocessing import StandardScaler\n",
        "from sklearn.model_selection import train_test_split\n",
        "import matplotlib.pyplot as plt\n",
        "from sklearn.neighbors import KNeighborsClassifier\n",
        "from sklearn.svm import SVC\n",
        "from  sklearn.naive_bayes import GaussianNB\n",
        "from sklearn.metrics import accuracy_score,ConfusionMatrixDisplay,classification_report\n",
        "from imblearn.over_sampling import SMOTE\n",
        "from imblearn.under_sampling import RandomUnderSampler\n",
        "import matplotlib.pyplot as plt\n",
        "df=pd.read_csv(\"/content/aug_train.csv\")\n",
        "df"
      ]
    },
    {
      "cell_type": "code",
      "source": [
        "# To check for the null  values are present\n",
        "df.isna().sum()"
      ],
      "metadata": {
        "id": "DZNBa23vZOls",
        "colab": {
          "base_uri": "https://localhost:8080/"
        },
        "outputId": "51973cce-3998-468f-9048-11c95cc5be8e"
      },
      "execution_count": null,
      "outputs": [
        {
          "output_type": "execute_result",
          "data": {
            "text/plain": [
              "enrollee_id                  0\n",
              "city                         0\n",
              "city_development_index       0\n",
              "gender                    4508\n",
              "relevent_experience          0\n",
              "enrolled_university        386\n",
              "education_level            460\n",
              "major_discipline          2813\n",
              "experience                  65\n",
              "company_size              5938\n",
              "company_type              6140\n",
              "last_new_job               423\n",
              "training_hours               0\n",
              "target                       0\n",
              "dtype: int64"
            ]
          },
          "metadata": {},
          "execution_count": 65
        }
      ]
    },
    {
      "cell_type": "code",
      "source": [
        "#to fill the missing values\n",
        "df[\"gender\"]=df[\"gender\"].fillna(df[\"gender\"].mode()[0])\n",
        "#df[\"enrolled_university\"].fillna(df[\"enrolled_university\"].mode()[0])\n",
        "lst=[\"enrolled_university\",\"education_level\",\"major_discipline\",\"experience\",\"company_size\",\"company_type\",\"last_new_job\"]\n",
        "for i in lst:\n",
        "  df[i]=df[i].fillna(df[i].mode()[0])\n"
      ],
      "metadata": {
        "id": "OQ_qGLv0LHfi"
      },
      "execution_count": null,
      "outputs": []
    },
    {
      "cell_type": "code",
      "source": [
        "# To identify the type of records in the dataset\n",
        "df.dtypes"
      ],
      "metadata": {
        "id": "rPvfogCVZRgq",
        "colab": {
          "base_uri": "https://localhost:8080/"
        },
        "outputId": "8c563e2c-fa0f-4060-af9e-f2d399560103"
      },
      "execution_count": null,
      "outputs": [
        {
          "output_type": "execute_result",
          "data": {
            "text/plain": [
              "enrollee_id                 int64\n",
              "city                       object\n",
              "city_development_index    float64\n",
              "gender                     object\n",
              "relevent_experience        object\n",
              "enrolled_university        object\n",
              "education_level            object\n",
              "major_discipline           object\n",
              "experience                 object\n",
              "company_size               object\n",
              "company_type               object\n",
              "last_new_job               object\n",
              "training_hours              int64\n",
              "target                    float64\n",
              "dtype: object"
            ]
          },
          "metadata": {},
          "execution_count": 67
        }
      ]
    },
    {
      "cell_type": "code",
      "source": [
        "#to remove \"city_\" in column \"city\" to convert it into float datatype\n",
        "df[\"city\"]=df[\"city\"].str.replace(\"city_\",\"\")\n",
        "df[\"city\"]=df[\"city\"].astype(float)"
      ],
      "metadata": {
        "id": "PBQqUBraN9YB"
      },
      "execution_count": null,
      "outputs": []
    },
    {
      "cell_type": "code",
      "source": [
        "# now to convert the object values to numeric data type using label encoder\n",
        "le=LabelEncoder()\n",
        "lst_le=[\"gender\",\"relevent_experience\",\"gender\",\"relevent_experience\",\"enrolled_university\",\"education_level\",\"major_discipline\",\"experience\",\"company_size\",\"company_type\",\"last_new_job\"]\n",
        "for i in lst_le:\n",
        "  df[i]=le.fit_transform(df[i])\n"
      ],
      "metadata": {
        "id": "giah_G4hLDVz"
      },
      "execution_count": null,
      "outputs": []
    },
    {
      "cell_type": "code",
      "source": [
        "df[\"education_level\"].isna().sum()"
      ],
      "metadata": {
        "colab": {
          "base_uri": "https://localhost:8080/"
        },
        "id": "GKjqAZf8Uuhx",
        "outputId": "24542539-357c-41f9-a7ec-ebcccf4161cf"
      },
      "execution_count": null,
      "outputs": [
        {
          "output_type": "execute_result",
          "data": {
            "text/plain": [
              "0"
            ]
          },
          "metadata": {},
          "execution_count": 70
        }
      ]
    },
    {
      "cell_type": "code",
      "source": [
        "df[\"relevent_experience\"].value_counts()"
      ],
      "metadata": {
        "colab": {
          "base_uri": "https://localhost:8080/"
        },
        "id": "DX3zVTYuPdYA",
        "outputId": "3c5ae496-4cfc-451a-dd72-69c78ce4b732"
      },
      "execution_count": null,
      "outputs": [
        {
          "output_type": "execute_result",
          "data": {
            "text/plain": [
              "0    13792\n",
              "1     5366\n",
              "Name: relevent_experience, dtype: int64"
            ]
          },
          "metadata": {},
          "execution_count": 71
        }
      ]
    },
    {
      "cell_type": "code",
      "source": [
        "df.isna().sum()"
      ],
      "metadata": {
        "colab": {
          "base_uri": "https://localhost:8080/"
        },
        "id": "N52n1v6eVClA",
        "outputId": "aec3ea41-cf6e-498e-b359-9d7eac9246c8"
      },
      "execution_count": null,
      "outputs": [
        {
          "output_type": "execute_result",
          "data": {
            "text/plain": [
              "enrollee_id               0\n",
              "city                      0\n",
              "city_development_index    0\n",
              "gender                    0\n",
              "relevent_experience       0\n",
              "enrolled_university       0\n",
              "education_level           0\n",
              "major_discipline          0\n",
              "experience                0\n",
              "company_size              0\n",
              "company_type              0\n",
              "last_new_job              0\n",
              "training_hours            0\n",
              "target                    0\n",
              "dtype: int64"
            ]
          },
          "metadata": {},
          "execution_count": 72
        }
      ]
    },
    {
      "cell_type": "markdown",
      "source": [
        "So all the missing values are filled and string values are converted to intgers or float type"
      ],
      "metadata": {
        "id": "zxYiBm7wVIw5"
      }
    },
    {
      "cell_type": "code",
      "source": [
        "df.count()"
      ],
      "metadata": {
        "colab": {
          "base_uri": "https://localhost:8080/"
        },
        "id": "FuOX_74hVjKg",
        "outputId": "cc428e15-7704-4289-b012-9c4a123fb8f0"
      },
      "execution_count": null,
      "outputs": [
        {
          "output_type": "execute_result",
          "data": {
            "text/plain": [
              "enrollee_id               19158\n",
              "city                      19158\n",
              "city_development_index    19158\n",
              "gender                    19158\n",
              "relevent_experience       19158\n",
              "enrolled_university       19158\n",
              "education_level           19158\n",
              "major_discipline          19158\n",
              "experience                19158\n",
              "company_size              19158\n",
              "company_type              19158\n",
              "last_new_job              19158\n",
              "training_hours            19158\n",
              "target                    19158\n",
              "dtype: int64"
            ]
          },
          "metadata": {},
          "execution_count": 73
        }
      ]
    },
    {
      "cell_type": "code",
      "source": [
        "df[\"target\"].value_counts()"
      ],
      "metadata": {
        "colab": {
          "base_uri": "https://localhost:8080/"
        },
        "id": "8Y2k6Rx7d8zI",
        "outputId": "31d22e46-a21a-41fa-d79e-0b345e5d7b50"
      },
      "execution_count": null,
      "outputs": [
        {
          "output_type": "execute_result",
          "data": {
            "text/plain": [
              "0.0    14381\n",
              "1.0     4777\n",
              "Name: target, dtype: int64"
            ]
          },
          "metadata": {},
          "execution_count": 74
        }
      ]
    },
    {
      "cell_type": "code",
      "source": [
        "newlabels=[\"not_looking_job\",\"looking_job\"]\n",
        "color=[\"#FF0000\",\"#00FF00\"]\n",
        "plt.pie(df[\"target\"].value_counts(),labels=newlabels,colors=color)\n",
        "plt.legend()\n",
        "plt.show()"
      ],
      "metadata": {
        "colab": {
          "base_uri": "https://localhost:8080/",
          "height": 248
        },
        "id": "RcigVMKYWBj_",
        "outputId": "a3c2f114-d41b-49d6-8e8b-e2b67f5dac15"
      },
      "execution_count": 97,
      "outputs": [
        {
          "output_type": "display_data",
          "data": {
            "text/plain": [
              "<Figure size 432x288 with 1 Axes>"
            ],
            "image/png": "[encoded data removed]"
          },
          "metadata": {}
        }
      ]
    },
    {
      "cell_type": "markdown",
      "source": [
        "# here we can see that the data is imbalanced so we can use either over/under sampling\n",
        "\n",
        "before that we can try out the dataset without data sampling to check out the diiference in output"
      ],
      "metadata": {
        "id": "JuSrgji6WpXg"
      }
    },
    {
      "cell_type": "code",
      "source": [
        "#splitting dataset as attributes \"X\" and output as \" y \"\n",
        "X=df.iloc[:,1:13]\n",
        "y=df.iloc[:,-1]\n",
        "y"
      ],
      "metadata": {
        "colab": {
          "base_uri": "https://localhost:8080/"
        },
        "id": "zeN-mgUwXA0v",
        "outputId": "419b3724-8431-4f0b-b583-3d16eb28ebca"
      },
      "execution_count": null,
      "outputs": [
        {
          "output_type": "execute_result",
          "data": {
            "text/plain": [
              "0        1.0\n",
              "1        0.0\n",
              "2        0.0\n",
              "3        1.0\n",
              "4        0.0\n",
              "        ... \n",
              "19153    1.0\n",
              "19154    1.0\n",
              "19155    0.0\n",
              "19156    0.0\n",
              "19157    0.0\n",
              "Name: target, Length: 19158, dtype: float64"
            ]
          },
          "metadata": {},
          "execution_count": 76
        }
      ]
    },
    {
      "cell_type": "code",
      "source": [
        "# scaling values using minmax or svc\n",
        "sc=StandardScaler()\n",
        "X_scaled=sc.fit_transform(X)\n",
        "X_scaled"
      ],
      "metadata": {
        "colab": {
          "base_uri": "https://localhost:8080/"
        },
        "id": "lpq-FPr5ZyS-",
        "outputId": "57476278-8049-4468-e9f3-55fefadf7fc6"
      },
      "execution_count": null,
      "outputs": [
        {
          "output_type": "execute_result",
          "data": {
            "text/plain": [
              "array([[ 0.49278091,  0.73891926,  0.20423458, ...,  0.3935561 ,\n",
              "        -0.90218896, -0.4889846 ],\n",
              "       [-0.86461617, -0.42840976,  0.20423458, ...,  0.3935561 ,\n",
              "         1.16436445, -0.30582494],\n",
              "       [-1.27398989, -1.66059039,  0.20423458, ...,  0.3935561 ,\n",
              "         1.68100281,  0.29360665],\n",
              "       ...,\n",
              "       [ 0.49278091,  0.73891926,  0.20423458, ...,  0.3935561 ,\n",
              "         0.6477261 , -0.35577758],\n",
              "       [-0.32596653, -0.21764202,  0.20423458, ...,  0.3935561 ,\n",
              "        -0.38555061,  0.52671894],\n",
              "       [-0.28287456,  0.21199991,  0.20423458, ...,  0.3935561 ,\n",
              "        -0.90218896,  1.02624527]])"
            ]
          },
          "metadata": {},
          "execution_count": 77
        }
      ]
    },
    {
      "cell_type": "code",
      "source": [
        "#We can also use minmax scaler for scaling\n",
        "# #scaling using minmax method\n",
        "# from sklearn.preprocessing import MinMaxScaler\n",
        "# minmax=MinMaxScaler()\n",
        "#X_scaled=minmax.fit_transform(X)\n",
        "#X_scaled"
      ],
      "metadata": {
        "id": "k0tFRrHBaZ4n"
      },
      "execution_count": null,
      "outputs": []
    },
    {
      "cell_type": "code",
      "source": [
        "# splitting datas into train set and test set\n",
        "X_train,X_test,y_train,y_test=train_test_split(X_scaled,y,test_size=40,random_state=80)"
      ],
      "metadata": {
        "id": "Eq5sj77_bGpv"
      },
      "execution_count": null,
      "outputs": []
    },
    {
      "cell_type": "code",
      "source": [
        "# just to plot x and y (train data set)\n",
        "plt.plot(X_train,y_train)"
      ],
      "metadata": {
        "colab": {
          "base_uri": "https://localhost:8080/",
          "height": 473
        },
        "id": "YBb-HLr8X5o4",
        "outputId": "d9dad627-b5bb-445a-c334-4a7fef06eabe"
      },
      "execution_count": null,
      "outputs": [
        {
          "output_type": "execute_result",
          "data": {
            "text/plain": [
              "[<matplotlib.lines.Line2D at 0x7f8d8890e6d0>,\n",
              " <matplotlib.lines.Line2D at 0x7f8d8890e730>,\n",
              " <matplotlib.lines.Line2D at 0x7f8d8890e850>,\n",
              " <matplotlib.lines.Line2D at 0x7f8d8890e970>,\n",
              " <matplotlib.lines.Line2D at 0x7f8d8890ea90>,\n",
              " <matplotlib.lines.Line2D at 0x7f8d8890ebb0>,\n",
              " <matplotlib.lines.Line2D at 0x7f8d8890ecd0>,\n",
              " <matplotlib.lines.Line2D at 0x7f8d8890edf0>,\n",
              " <matplotlib.lines.Line2D at 0x7f8d8890ef10>,\n",
              " <matplotlib.lines.Line2D at 0x7f8d88918070>,\n",
              " <matplotlib.lines.Line2D at 0x7f8d8890e700>,\n",
              " <matplotlib.lines.Line2D at 0x7f8d88918190>]"
            ]
          },
          "metadata": {},
          "execution_count": 80
        },
        {
          "output_type": "display_data",
          "data": {
            "text/plain": [
              "<Figure size 432x288 with 1 Axes>"
            ],
            "image/png": "[encoded data removed]"
          },
          "metadata": {
            "needs_background": "light"
          }
        }
      ]
    },
    {
      "cell_type": "markdown",
      "source": [
        "Now we can use knn ,svm,naive bayes for trainning"
      ],
      "metadata": {
        "id": "8zrGgcordkEW"
      }
    },
    {
      "cell_type": "markdown",
      "source": [
        "# In NAIVE BAYES ALGORITHM\n",
        "* GUASSIAN NAIVE BAYES---(CONTINUES VALUES)\n",
        "* MULTINOMIAL NB -------- (DISCRETE VALUES)\n",
        "* BERNOULI NB --------------( BOOLEAN VALUES)\n",
        "\n",
        "\n",
        "# IN SVC\n",
        " kernal can be \n",
        " * rbf,\n",
        " * linear\n",
        " * poly"
      ],
      "metadata": {
        "id": "e-x6H4Ur86f9"
      }
    },
    {
      "cell_type": "code",
      "source": [
        "knn=KNeighborsClassifier(n_neighbors=3)\n",
        "sv=SVC(kernel=\"poly\")\n",
        "nb=GaussianNB()\n",
        "lst=[knn,sv,nb]\n",
        "for model in lst:\n",
        "  print(\"\\n model---\",model)\n",
        "  model.fit(X_train,y_train)\n",
        "  y_pred=model.predict(X_test)\n",
        "  print(\"Accuracy:\",accuracy_score(y_test,y_pred)*100)\n",
        "  print(\"Classification report:\",classification_report(y_test,y_pred))\n",
        "  print(\"__\"*100)\n"
      ],
      "metadata": {
        "colab": {
          "base_uri": "https://localhost:8080/"
        },
        "id": "zh0VKr78dZh-",
        "outputId": "6274f16f-6bb9-4b78-e8d3-deacbd603cc1"
      },
      "execution_count": null,
      "outputs": [
        {
          "output_type": "stream",
          "name": "stdout",
          "text": [
            "\n",
            " model--- KNeighborsClassifier(n_neighbors=3)\n",
            "Accuracy: 67.5\n",
            "Classification report:               precision    recall  f1-score   support\n",
            "\n",
            "         0.0       0.76      0.79      0.77        28\n",
            "         1.0       0.45      0.42      0.43        12\n",
            "\n",
            "    accuracy                           0.68        40\n",
            "   macro avg       0.61      0.60      0.60        40\n",
            "weighted avg       0.67      0.68      0.67        40\n",
            "\n",
            "________________________________________________________________________________________________________________________________________________________________________________________________________\n",
            "\n",
            " model--- SVC(kernel='poly')\n",
            "Accuracy: 72.5\n",
            "Classification report:               precision    recall  f1-score   support\n",
            "\n",
            "         0.0       0.76      0.89      0.82        28\n",
            "         1.0       0.57      0.33      0.42        12\n",
            "\n",
            "    accuracy                           0.73        40\n",
            "   macro avg       0.66      0.61      0.62        40\n",
            "weighted avg       0.70      0.72      0.70        40\n",
            "\n",
            "________________________________________________________________________________________________________________________________________________________________________________________________________\n",
            "\n",
            " model--- GaussianNB()\n",
            "Accuracy: 72.5\n",
            "Classification report:               precision    recall  f1-score   support\n",
            "\n",
            "         0.0       0.77      0.86      0.81        28\n",
            "         1.0       0.56      0.42      0.48        12\n",
            "\n",
            "    accuracy                           0.73        40\n",
            "   macro avg       0.66      0.64      0.64        40\n",
            "weighted avg       0.71      0.72      0.71        40\n",
            "\n",
            "________________________________________________________________________________________________________________________________________________________________________________________________________\n"
          ]
        }
      ]
    },
    {
      "cell_type": "markdown",
      "source": [
        "# since the data is imbalanced"
      ],
      "metadata": {
        "id": "ipj8t19sFNOY"
      }
    },
    {
      "cell_type": "code",
      "source": [
        "df[\"target\"].value_counts()"
      ],
      "metadata": {
        "colab": {
          "base_uri": "https://localhost:8080/"
        },
        "id": "O4eGMWAZAIz-",
        "outputId": "602d4d1e-3024-44db-dae5-02a97293359a"
      },
      "execution_count": null,
      "outputs": [
        {
          "output_type": "execute_result",
          "data": {
            "text/plain": [
              "0.0    14381\n",
              "1.0     4777\n",
              "Name: target, dtype: int64"
            ]
          },
          "metadata": {},
          "execution_count": 82
        }
      ]
    },
    {
      "cell_type": "markdown",
      "source": [
        "# we can either use under samplin or over over sampling"
      ],
      "metadata": {
        "id": "76CtpSCpFZTm"
      }
    },
    {
      "cell_type": "markdown",
      "source": [
        "# Using over sampling technique"
      ],
      "metadata": {
        "id": "gr-GZu7jF3Sn"
      }
    },
    {
      "cell_type": "code",
      "source": [
        "os=SMOTE(random_state=2)\n",
        "X_os,y_os=os.fit_resample(X_scaled,y)\n",
        "y_os.value_counts()"
      ],
      "metadata": {
        "colab": {
          "base_uri": "https://localhost:8080/"
        },
        "id": "hCWTwKTsF28p",
        "outputId": "205f0705-474f-456e-af7f-8a491e6c58b5"
      },
      "execution_count": null,
      "outputs": [
        {
          "output_type": "execute_result",
          "data": {
            "text/plain": [
              "1.0    14381\n",
              "0.0    14381\n",
              "Name: target, dtype: int64"
            ]
          },
          "metadata": {},
          "execution_count": 83
        }
      ]
    },
    {
      "cell_type": "code",
      "source": [
        "newlabels=[\"not_job_seeking\",\"job_seeking\"]\n",
        "color=[\"#FF0000\",\"#00FF00\"]\n",
        "plt.pie(y_os.value_counts(),labels=newlabels,colors=color,autopct='%1.2f%%')\n",
        "plt.legend()\n",
        "plt.show()"
      ],
      "metadata": {
        "colab": {
          "base_uri": "https://localhost:8080/",
          "height": 248
        },
        "id": "Hy7RWtikjEmz",
        "outputId": "3ec35e5d-bdad-4b21-942e-e4df5684ca39"
      },
      "execution_count": 99,
      "outputs": [
        {
          "output_type": "display_data",
          "data": {
            "text/plain": [
              "<Figure size 432x288 with 1 Axes>"
            ],
            "image/png": "[encoded data removed]"
          },
          "metadata": {}
        }
      ]
    },
    {
      "cell_type": "code",
      "source": [
        "# splitting datas as train data and test data\n",
        "X_train_os,X_test_os,y_train_os,y_test_os=train_test_split(X_os,y_os,test_size=40,random_state=80)"
      ],
      "metadata": {
        "id": "Yrxep6XwHIDm"
      },
      "execution_count": null,
      "outputs": []
    },
    {
      "cell_type": "code",
      "source": [
        "#Trainning data set with multiple algorithms(Knn,svc and naive bayes Algorithm) to find which suits better\n",
        "knn=KNeighborsClassifier(n_neighbors=3)\n",
        "sv=SVC(kernel=\"poly\")\n",
        "nb=GaussianNB()\n",
        "lst=[knn,sv,nb]\n",
        "for model in lst:\n",
        "  print(\"\\n model---\",model)\n",
        "  model.fit(X_train_os,y_train_os)\n",
        "  y_pred_os=model.predict(X_test_os)\n",
        "  print(\"Accuracy\",accuracy_score(y_test_os,y_pred_os)*100)\n",
        "  print(\"Classification report:\",classification_report(y_test_os,y_pred_os))\n",
        "  print(\"__\"*100)\n"
      ],
      "metadata": {
        "colab": {
          "base_uri": "https://localhost:8080/"
        },
        "id": "CUtfigDFHytM",
        "outputId": "e5bcc211-287f-4103-a283-ed708a64ee78"
      },
      "execution_count": null,
      "outputs": [
        {
          "output_type": "stream",
          "name": "stdout",
          "text": [
            "\n",
            " model--- KNeighborsClassifier(n_neighbors=3)\n",
            "Accuracy 77.5\n",
            "Classification report:               precision    recall  f1-score   support\n",
            "\n",
            "         0.0       0.93      0.62      0.74        21\n",
            "         1.0       0.69      0.95      0.80        19\n",
            "\n",
            "    accuracy                           0.78        40\n",
            "   macro avg       0.81      0.78      0.77        40\n",
            "weighted avg       0.82      0.78      0.77        40\n",
            "\n",
            "________________________________________________________________________________________________________________________________________________________________________________________________________\n",
            "\n",
            " model--- SVC(kernel='poly')\n",
            "Accuracy 77.5\n",
            "Classification report:               precision    recall  f1-score   support\n",
            "\n",
            "         0.0       0.75      0.86      0.80        21\n",
            "         1.0       0.81      0.68      0.74        19\n",
            "\n",
            "    accuracy                           0.78        40\n",
            "   macro avg       0.78      0.77      0.77        40\n",
            "weighted avg       0.78      0.78      0.77        40\n",
            "\n",
            "________________________________________________________________________________________________________________________________________________________________________________________________________\n",
            "\n",
            " model--- GaussianNB()\n",
            "Accuracy 77.5\n",
            "Classification report:               precision    recall  f1-score   support\n",
            "\n",
            "         0.0       0.75      0.86      0.80        21\n",
            "         1.0       0.81      0.68      0.74        19\n",
            "\n",
            "    accuracy                           0.78        40\n",
            "   macro avg       0.78      0.77      0.77        40\n",
            "weighted avg       0.78      0.78      0.77        40\n",
            "\n",
            "________________________________________________________________________________________________________________________________________________________________________________________________________\n"
          ]
        }
      ]
    },
    {
      "cell_type": "code",
      "source": [
        "print(\"Confusion_Matrix \\n\",ConfusionMatrixDisplay.from_predictions(y_test_os,y_pred_os))"
      ],
      "metadata": {
        "colab": {
          "base_uri": "https://localhost:8080/",
          "height": 318
        },
        "id": "Hovg_2MeY3WC",
        "outputId": "0619af5b-3f3f-420d-eaed-8972ea93244f"
      },
      "execution_count": null,
      "outputs": [
        {
          "output_type": "stream",
          "name": "stdout",
          "text": [
            "Confusion_Matrix \n",
            " <sklearn.metrics._plot.confusion_matrix.ConfusionMatrixDisplay object at 0x7f8d88cea700>\n"
          ]
        },
        {
          "output_type": "display_data",
          "data": {
            "text/plain": [
              "<Figure size 432x288 with 2 Axes>"
            ],
            "image/png": "[encoded data removed]"
          },
          "metadata": {
            "needs_background": "light"
          }
        }
      ]
    },
    {
      "cell_type": "markdown",
      "source": [
        "# Now performing Under sampling Method"
      ],
      "metadata": {
        "id": "At8Cb75pISPs"
      }
    },
    {
      "cell_type": "code",
      "source": [
        "us=RandomUnderSampler()\n",
        "X_us,y_us=us.fit_resample(X_scaled,y)\n",
        "y_us.value_counts()"
      ],
      "metadata": {
        "colab": {
          "base_uri": "https://localhost:8080/"
        },
        "id": "SN3_jc2iIRy_",
        "outputId": "0d8ffc23-f841-46a9-fe3d-2849f69e0279"
      },
      "execution_count": null,
      "outputs": [
        {
          "output_type": "execute_result",
          "data": {
            "text/plain": [
              "0.0    4777\n",
              "1.0    4777\n",
              "Name: target, dtype: int64"
            ]
          },
          "metadata": {},
          "execution_count": 88
        }
      ]
    },
    {
      "cell_type": "code",
      "source": [
        "newlabels=[\"not_job_seeking\",\"job_seeking\"]\n",
        "color=[\"#FF0000\",\"#00FF00\"]\n",
        "plt.pie(y_us.value_counts(),labels=newlabels,colors=color,autopct='%1.2f%%')\n",
        "plt.legend()\n",
        "plt.show()"
      ],
      "metadata": {
        "colab": {
          "base_uri": "https://localhost:8080/",
          "height": 248
        },
        "id": "Wq9UQ3ANjqNk",
        "outputId": "d8ddd0b9-89cc-4308-bd97-52bd65db066e"
      },
      "execution_count": 98,
      "outputs": [
        {
          "output_type": "display_data",
          "data": {
            "text/plain": [
              "<Figure size 432x288 with 1 Axes>"
            ],
            "image/png": "[encoded data removed]"
          },
          "metadata": {}
        }
      ]
    },
    {
      "cell_type": "code",
      "source": [
        "#Splitting into test and train data\n",
        "X_train_us,X_test_us,y_train_us,y_test_us=train_test_split(X_us,y_us,test_size=40,random_state=80)\n"
      ],
      "metadata": {
        "id": "23cxsBXjJAok"
      },
      "execution_count": null,
      "outputs": []
    },
    {
      "cell_type": "code",
      "source": [
        "# trainning datastet\n",
        "knn=KNeighborsClassifier(n_neighbors=3)\n",
        "sv=SVC(kernel=\"poly\")\n",
        "nb=GaussianNB()\n",
        "lst=[knn,sv,nb]\n",
        "for model in lst:\n",
        "  print(\"\\n model---\",model)\n",
        "  model.fit(X_train_us,y_train_us)\n",
        "  y_pred_us=model.predict(X_test_us)\n",
        "  print(\"Accuracy:\",accuracy_score(y_test_us,y_pred_us)*100)\n",
        "  print(\"Classification report:\",classification_report(y_test_us,y_pred_us))\n",
        "  #print(\"Confusion_Matrix \\n\",ConfusionMatrixDisplay.from_predictions(y_test,y_pred))\n",
        "  print(\"__\"*100)\n"
      ],
      "metadata": {
        "colab": {
          "base_uri": "https://localhost:8080/"
        },
        "id": "keRpxeseJdQO",
        "outputId": "65d21d39-c9c5-4a29-fbb3-2f3a983c5203"
      },
      "execution_count": null,
      "outputs": [
        {
          "output_type": "stream",
          "name": "stdout",
          "text": [
            "\n",
            " model--- KNeighborsClassifier(n_neighbors=3)\n",
            "Accuracy: 70.0\n",
            "Classification report:               precision    recall  f1-score   support\n",
            "\n",
            "         0.0       0.74      0.74      0.74        23\n",
            "         1.0       0.65      0.65      0.65        17\n",
            "\n",
            "    accuracy                           0.70        40\n",
            "   macro avg       0.69      0.69      0.69        40\n",
            "weighted avg       0.70      0.70      0.70        40\n",
            "\n",
            "________________________________________________________________________________________________________________________________________________________________________________________________________\n",
            "\n",
            " model--- SVC(kernel='poly')\n",
            "Accuracy: 75.0\n",
            "Classification report:               precision    recall  f1-score   support\n",
            "\n",
            "         0.0       0.78      0.78      0.78        23\n",
            "         1.0       0.71      0.71      0.71        17\n",
            "\n",
            "    accuracy                           0.75        40\n",
            "   macro avg       0.74      0.74      0.74        40\n",
            "weighted avg       0.75      0.75      0.75        40\n",
            "\n",
            "________________________________________________________________________________________________________________________________________________________________________________________________________\n",
            "\n",
            " model--- GaussianNB()\n",
            "Accuracy: 67.5\n",
            "Classification report:               precision    recall  f1-score   support\n",
            "\n",
            "         0.0       0.71      0.74      0.72        23\n",
            "         1.0       0.62      0.59      0.61        17\n",
            "\n",
            "    accuracy                           0.68        40\n",
            "   macro avg       0.67      0.66      0.66        40\n",
            "weighted avg       0.67      0.68      0.67        40\n",
            "\n",
            "________________________________________________________________________________________________________________________________________________________________________________________________________\n"
          ]
        }
      ]
    },
    {
      "cell_type": "code",
      "source": [
        "print(\"Confusion_Matrix \\n\",ConfusionMatrixDisplay.from_predictions(y_test_us,y_pred_us))"
      ],
      "metadata": {
        "colab": {
          "base_uri": "https://localhost:8080/",
          "height": 314
        },
        "id": "J2KQdYcYYeEr",
        "outputId": "cd0f9fef-20e1-40aa-f069-a69e54ea674e"
      },
      "execution_count": null,
      "outputs": [
        {
          "output_type": "stream",
          "name": "stdout",
          "text": [
            "Confusion_Matrix \n",
            " <sklearn.metrics._plot.confusion_matrix.ConfusionMatrixDisplay object at 0x7f8d88cfc220>\n"
          ]
        },
        {
          "output_type": "display_data",
          "data": {
            "text/plain": [
              "<Figure size 432x288 with 2 Axes>"
            ],
            "image/png": "[encoded data removed]"
          },
          "metadata": {
            "needs_background": "light"
          }
        }
      ]
    },
    {
      "cell_type": "markdown",
      "source": [],
      "metadata": {
        "id": "vh-4Q1sjQTbF"
      }
    }
  ]
}