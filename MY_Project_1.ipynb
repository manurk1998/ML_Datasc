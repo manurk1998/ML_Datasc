{
  "nbformat": 4,
  "nbformat_minor": 0,
  "metadata": {
    "colab": {
      "provenance": [],
      "authorship_tag": "ABX9TyMpqaoXNTOccPelkx7GkUWZ",
      "include_colab_link": true
    },
    "kernelspec": {
      "name": "python3",
      "display_name": "Python 3"
    },
    "language_info": {
      "name": "python"
    }
  },
  "cells": [
    {
      "cell_type": "markdown",
      "metadata": {
        "id": "view-in-github",
        "colab_type": "text"
      },
      "source": [
        "<a href=\"https://colab.research.google.com/github/manurk1998/ML_Datasc/blob/main/MY_Project_1.ipynb\" target=\"_parent\"><img src=\"https://colab.research.google.com/assets/colab-badge.svg\" alt=\"Open In Colab\"/></a>"
      ]
    },
    {
      "cell_type": "markdown",
      "source": [
        "# **About Dataset**\n",
        "\n",
        "A company which is active in Big Data and Data Science wants to hire data scientists among people who successfully pass some courses which conduct by the company. Many people signup for their training. Company wants to know which of these candidates are really wants to work for the company after training or looking for a new employment because it helps to reduce the cost and time as well as the quality of training or planning the courses and categorization of candidates. Information related to demographics, education, experience are in hands from candidates signup and enrollment.\n",
        "\n",
        "This dataset designed to understand the factors that lead a person to leave current job for HR researches too. By model(s) that uses the current credentials,demographics,experience data you will predict the probability of a candidate to look for a new job or will work for the company, as well as interpreting affected factors on employee decision.\n",
        "\n",
        "The whole data divided to train and test . Target isn't included in test but the test target values data file is in hands for related tasks. A sample submission correspond to enrollee_id of test set provided too with columns : enrollee _id , target\n",
        "\n",
        "Note:\n",
        "\n",
        "The dataset is imbalanced.\n",
        "Most features are categorical (Nominal, Ordinal, Binary), some with high cardinality.\n",
        "Missing imputation can be a part of your pipeline as well.\n",
        "Features\n",
        "\n",
        "enrollee_id : Unique ID for candidate\n",
        "\n",
        "city: City code\n",
        "\n",
        "city_ development _index : Developement index of the city (scaled)\n",
        "\n",
        "gender: Gender of candidate\n",
        "\n",
        "relevent_experience: Relevant experience of candidate\n",
        "\n",
        "enrolled_university: Type of University course enrolled if any\n",
        "\n",
        "education_level: Education level of candidate\n",
        "\n",
        "major_discipline :Education major discipline of candidate\n",
        "\n",
        "experience: Candidate total experience in years\n",
        "\n",
        "company_size: No of employees in current employer's company\n",
        "\n",
        "company_type : Type of current employer\n",
        "\n",
        "last_new_job: Difference in years between previous job and current job\n",
        "\n",
        "training_hours: training hours completed\n",
        "\n",
        "target: 0 – Not looking for job change, 1 – Looking for a job change\n",
        "\n",
        "Inspiration\n",
        "Predict the probability of a candidate will work for the company\n",
        "Interpret model(s) such a way that illustrate which features affect candidate decision\n",
        "\n",
        "for more details:-\n",
        "https://www.kaggle.com/arashnic/hr-analytics-job-change-of-data-scientists/tasks?taskId=3015"
      ],
      "metadata": {
        "id": "wLOKxCR6G1v0"
      }
    },
    {
      "cell_type": "code",
      "execution_count": 189,
      "metadata": {
        "colab": {
          "base_uri": "https://localhost:8080/",
          "height": 574
        },
        "id": "5AhyqudVY3ks",
        "outputId": "dd3bda9b-5705-4841-f9a0-292511c9209e"
      },
      "outputs": [
        {
          "output_type": "execute_result",
          "data": {
            "text/plain": [
              "       enrollee_id      city  city_development_index gender  \\\n",
              "0             8949  city_103                   0.920   Male   \n",
              "1            29725   city_40                   0.776   Male   \n",
              "2            11561   city_21                   0.624    NaN   \n",
              "3            33241  city_115                   0.789    NaN   \n",
              "4              666  city_162                   0.767   Male   \n",
              "...            ...       ...                     ...    ...   \n",
              "19153         7386  city_173                   0.878   Male   \n",
              "19154        31398  city_103                   0.920   Male   \n",
              "19155        24576  city_103                   0.920   Male   \n",
              "19156         5756   city_65                   0.802   Male   \n",
              "19157        23834   city_67                   0.855    NaN   \n",
              "\n",
              "           relevent_experience enrolled_university education_level  \\\n",
              "0      Has relevent experience       no_enrollment        Graduate   \n",
              "1       No relevent experience       no_enrollment        Graduate   \n",
              "2       No relevent experience    Full time course        Graduate   \n",
              "3       No relevent experience                 NaN        Graduate   \n",
              "4      Has relevent experience       no_enrollment         Masters   \n",
              "...                        ...                 ...             ...   \n",
              "19153   No relevent experience       no_enrollment        Graduate   \n",
              "19154  Has relevent experience       no_enrollment        Graduate   \n",
              "19155  Has relevent experience       no_enrollment        Graduate   \n",
              "19156  Has relevent experience       no_enrollment     High School   \n",
              "19157   No relevent experience       no_enrollment  Primary School   \n",
              "\n",
              "      major_discipline experience company_size    company_type last_new_job  \\\n",
              "0                 STEM        >20          NaN             NaN            1   \n",
              "1                 STEM         15        50-99         Pvt Ltd           >4   \n",
              "2                 STEM          5          NaN             NaN        never   \n",
              "3      Business Degree         <1          NaN         Pvt Ltd        never   \n",
              "4                 STEM        >20        50-99  Funded Startup            4   \n",
              "...                ...        ...          ...             ...          ...   \n",
              "19153       Humanities         14          NaN             NaN            1   \n",
              "19154             STEM         14          NaN             NaN            4   \n",
              "19155             STEM        >20        50-99         Pvt Ltd            4   \n",
              "19156              NaN         <1      500-999         Pvt Ltd            2   \n",
              "19157              NaN          2          NaN             NaN            1   \n",
              "\n",
              "       training_hours  target  \n",
              "0                  36     1.0  \n",
              "1                  47     0.0  \n",
              "2                  83     0.0  \n",
              "3                  52     1.0  \n",
              "4                   8     0.0  \n",
              "...               ...     ...  \n",
              "19153              42     1.0  \n",
              "19154              52     1.0  \n",
              "19155              44     0.0  \n",
              "19156              97     0.0  \n",
              "19157             127     0.0  \n",
              "\n",
              "[19158 rows x 14 columns]"
            ],
            "text/html": [
              "\n",
              "  <div id=\"df-2fff56dc-41c0-44ff-b2c9-d5563c7e7a68\">\n",
              "    <div class=\"colab-df-container\">\n",
              "      <div>\n",
              "<style scoped>\n",
              "    .dataframe tbody tr th:only-of-type {\n",
              "        vertical-align: middle;\n",
              "    }\n",
              "\n",
              "    .dataframe tbody tr th {\n",
              "        vertical-align: top;\n",
              "    }\n",
              "\n",
              "    .dataframe thead th {\n",
              "        text-align: right;\n",
              "    }\n",
              "</style>\n",
              "<table border=\"1\" class=\"dataframe\">\n",
              "  <thead>\n",
              "    <tr style=\"text-align: right;\">\n",
              "      <th></th>\n",
              "      <th>enrollee_id</th>\n",
              "      <th>city</th>\n",
              "      <th>city_development_index</th>\n",
              "      <th>gender</th>\n",
              "      <th>relevent_experience</th>\n",
              "      <th>enrolled_university</th>\n",
              "      <th>education_level</th>\n",
              "      <th>major_discipline</th>\n",
              "      <th>experience</th>\n",
              "      <th>company_size</th>\n",
              "      <th>company_type</th>\n",
              "      <th>last_new_job</th>\n",
              "      <th>training_hours</th>\n",
              "      <th>target</th>\n",
              "    </tr>\n",
              "  </thead>\n",
              "  <tbody>\n",
              "    <tr>\n",
              "      <th>0</th>\n",
              "      <td>8949</td>\n",
              "      <td>city_103</td>\n",
              "      <td>0.920</td>\n",
              "      <td>Male</td>\n",
              "      <td>Has relevent experience</td>\n",
              "      <td>no_enrollment</td>\n",
              "      <td>Graduate</td>\n",
              "      <td>STEM</td>\n",
              "      <td>&gt;20</td>\n",
              "      <td>NaN</td>\n",
              "      <td>NaN</td>\n",
              "      <td>1</td>\n",
              "      <td>36</td>\n",
              "      <td>1.0</td>\n",
              "    </tr>\n",
              "    <tr>\n",
              "      <th>1</th>\n",
              "      <td>29725</td>\n",
              "      <td>city_40</td>\n",
              "      <td>0.776</td>\n",
              "      <td>Male</td>\n",
              "      <td>No relevent experience</td>\n",
              "      <td>no_enrollment</td>\n",
              "      <td>Graduate</td>\n",
              "      <td>STEM</td>\n",
              "      <td>15</td>\n",
              "      <td>50-99</td>\n",
              "      <td>Pvt Ltd</td>\n",
              "      <td>&gt;4</td>\n",
              "      <td>47</td>\n",
              "      <td>0.0</td>\n",
              "    </tr>\n",
              "    <tr>\n",
              "      <th>2</th>\n",
              "      <td>11561</td>\n",
              "      <td>city_21</td>\n",
              "      <td>0.624</td>\n",
              "      <td>NaN</td>\n",
              "      <td>No relevent experience</td>\n",
              "      <td>Full time course</td>\n",
              "      <td>Graduate</td>\n",
              "      <td>STEM</td>\n",
              "      <td>5</td>\n",
              "      <td>NaN</td>\n",
              "      <td>NaN</td>\n",
              "      <td>never</td>\n",
              "      <td>83</td>\n",
              "      <td>0.0</td>\n",
              "    </tr>\n",
              "    <tr>\n",
              "      <th>3</th>\n",
              "      <td>33241</td>\n",
              "      <td>city_115</td>\n",
              "      <td>0.789</td>\n",
              "      <td>NaN</td>\n",
              "      <td>No relevent experience</td>\n",
              "      <td>NaN</td>\n",
              "      <td>Graduate</td>\n",
              "      <td>Business Degree</td>\n",
              "      <td>&lt;1</td>\n",
              "      <td>NaN</td>\n",
              "      <td>Pvt Ltd</td>\n",
              "      <td>never</td>\n",
              "      <td>52</td>\n",
              "      <td>1.0</td>\n",
              "    </tr>\n",
              "    <tr>\n",
              "      <th>4</th>\n",
              "      <td>666</td>\n",
              "      <td>city_162</td>\n",
              "      <td>0.767</td>\n",
              "      <td>Male</td>\n",
              "      <td>Has relevent experience</td>\n",
              "      <td>no_enrollment</td>\n",
              "      <td>Masters</td>\n",
              "      <td>STEM</td>\n",
              "      <td>&gt;20</td>\n",
              "      <td>50-99</td>\n",
              "      <td>Funded Startup</td>\n",
              "      <td>4</td>\n",
              "      <td>8</td>\n",
              "      <td>0.0</td>\n",
              "    </tr>\n",
              "    <tr>\n",
              "      <th>...</th>\n",
              "      <td>...</td>\n",
              "      <td>...</td>\n",
              "      <td>...</td>\n",
              "      <td>...</td>\n",
              "      <td>...</td>\n",
              "      <td>...</td>\n",
              "      <td>...</td>\n",
              "      <td>...</td>\n",
              "      <td>...</td>\n",
              "      <td>...</td>\n",
              "      <td>...</td>\n",
              "      <td>...</td>\n",
              "      <td>...</td>\n",
              "      <td>...</td>\n",
              "    </tr>\n",
              "    <tr>\n",
              "      <th>19153</th>\n",
              "      <td>7386</td>\n",
              "      <td>city_173</td>\n",
              "      <td>0.878</td>\n",
              "      <td>Male</td>\n",
              "      <td>No relevent experience</td>\n",
              "      <td>no_enrollment</td>\n",
              "      <td>Graduate</td>\n",
              "      <td>Humanities</td>\n",
              "      <td>14</td>\n",
              "      <td>NaN</td>\n",
              "      <td>NaN</td>\n",
              "      <td>1</td>\n",
              "      <td>42</td>\n",
              "      <td>1.0</td>\n",
              "    </tr>\n",
              "    <tr>\n",
              "      <th>19154</th>\n",
              "      <td>31398</td>\n",
              "      <td>city_103</td>\n",
              "      <td>0.920</td>\n",
              "      <td>Male</td>\n",
              "      <td>Has relevent experience</td>\n",
              "      <td>no_enrollment</td>\n",
              "      <td>Graduate</td>\n",
              "      <td>STEM</td>\n",
              "      <td>14</td>\n",
              "      <td>NaN</td>\n",
              "      <td>NaN</td>\n",
              "      <td>4</td>\n",
              "      <td>52</td>\n",
              "      <td>1.0</td>\n",
              "    </tr>\n",
              "    <tr>\n",
              "      <th>19155</th>\n",
              "      <td>24576</td>\n",
              "      <td>city_103</td>\n",
              "      <td>0.920</td>\n",
              "      <td>Male</td>\n",
              "      <td>Has relevent experience</td>\n",
              "      <td>no_enrollment</td>\n",
              "      <td>Graduate</td>\n",
              "      <td>STEM</td>\n",
              "      <td>&gt;20</td>\n",
              "      <td>50-99</td>\n",
              "      <td>Pvt Ltd</td>\n",
              "      <td>4</td>\n",
              "      <td>44</td>\n",
              "      <td>0.0</td>\n",
              "    </tr>\n",
              "    <tr>\n",
              "      <th>19156</th>\n",
              "      <td>5756</td>\n",
              "      <td>city_65</td>\n",
              "      <td>0.802</td>\n",
              "      <td>Male</td>\n",
              "      <td>Has relevent experience</td>\n",
              "      <td>no_enrollment</td>\n",
              "      <td>High School</td>\n",
              "      <td>NaN</td>\n",
              "      <td>&lt;1</td>\n",
              "      <td>500-999</td>\n",
              "      <td>Pvt Ltd</td>\n",
              "      <td>2</td>\n",
              "      <td>97</td>\n",
              "      <td>0.0</td>\n",
              "    </tr>\n",
              "    <tr>\n",
              "      <th>19157</th>\n",
              "      <td>23834</td>\n",
              "      <td>city_67</td>\n",
              "      <td>0.855</td>\n",
              "      <td>NaN</td>\n",
              "      <td>No relevent experience</td>\n",
              "      <td>no_enrollment</td>\n",
              "      <td>Primary School</td>\n",
              "      <td>NaN</td>\n",
              "      <td>2</td>\n",
              "      <td>NaN</td>\n",
              "      <td>NaN</td>\n",
              "      <td>1</td>\n",
              "      <td>127</td>\n",
              "      <td>0.0</td>\n",
              "    </tr>\n",
              "  </tbody>\n",
              "</table>\n",
              "<p>19158 rows × 14 columns</p>\n",
              "</div>\n",
              "      <button class=\"colab-df-convert\" onclick=\"convertToInteractive('df-2fff56dc-41c0-44ff-b2c9-d5563c7e7a68')\"\n",
              "              title=\"Convert this dataframe to an interactive table.\"\n",
              "              style=\"display:none;\">\n",
              "        \n",
              "  <svg xmlns=\"http://www.w3.org/2000/svg\" height=\"24px\"viewBox=\"0 0 24 24\"\n",
              "       width=\"24px\">\n",
              "    <path d=\"M0 0h24v24H0V0z\" fill=\"none\"/>\n",
              "    <path d=\"M18.56 5.44l.94 2.06.94-2.06 2.06-.94-2.06-.94-.94-2.06-.94 2.06-2.06.94zm-11 1L8.5 8.5l.94-2.06 2.06-.94-2.06-.94L8.5 2.5l-.94 2.06-2.06.94zm10 10l.94 2.06.94-2.06 2.06-.94-2.06-.94-.94-2.06-.94 2.06-2.06.94z\"/><path d=\"M17.41 7.96l-1.37-1.37c-.4-.4-.92-.59-1.43-.59-.52 0-1.04.2-1.43.59L10.3 9.45l-7.72 7.72c-.78.78-.78 2.05 0 2.83L4 21.41c.39.39.9.59 1.41.59.51 0 1.02-.2 1.41-.59l7.78-7.78 2.81-2.81c.8-.78.8-2.07 0-2.86zM5.41 20L4 18.59l7.72-7.72 1.47 1.35L5.41 20z\"/>\n",
              "  </svg>\n",
              "      </button>\n",
              "      \n",
              "  <style>\n",
              "    .colab-df-container {\n",
              "      display:flex;\n",
              "      flex-wrap:wrap;\n",
              "      gap: 12px;\n",
              "    }\n",
              "\n",
              "    .colab-df-convert {\n",
              "      background-color: #E8F0FE;\n",
              "      border: none;\n",
              "      border-radius: 50%;\n",
              "      cursor: pointer;\n",
              "      display: none;\n",
              "      fill: #1967D2;\n",
              "      height: 32px;\n",
              "      padding: 0 0 0 0;\n",
              "      width: 32px;\n",
              "    }\n",
              "\n",
              "    .colab-df-convert:hover {\n",
              "      background-color: #E2EBFA;\n",
              "      box-shadow: 0px 1px 2px rgba(60, 64, 67, 0.3), 0px 1px 3px 1px rgba(60, 64, 67, 0.15);\n",
              "      fill: #174EA6;\n",
              "    }\n",
              "\n",
              "    [theme=dark] .colab-df-convert {\n",
              "      background-color: #3B4455;\n",
              "      fill: #D2E3FC;\n",
              "    }\n",
              "\n",
              "    [theme=dark] .colab-df-convert:hover {\n",
              "      background-color: #434B5C;\n",
              "      box-shadow: 0px 1px 3px 1px rgba(0, 0, 0, 0.15);\n",
              "      filter: drop-shadow(0px 1px 2px rgba(0, 0, 0, 0.3));\n",
              "      fill: #FFFFFF;\n",
              "    }\n",
              "  </style>\n",
              "\n",
              "      <script>\n",
              "        const buttonEl =\n",
              "          document.querySelector('#df-2fff56dc-41c0-44ff-b2c9-d5563c7e7a68 button.colab-df-convert');\n",
              "        buttonEl.style.display =\n",
              "          google.colab.kernel.accessAllowed ? 'block' : 'none';\n",
              "\n",
              "        async function convertToInteractive(key) {\n",
              "          const element = document.querySelector('#df-2fff56dc-41c0-44ff-b2c9-d5563c7e7a68');\n",
              "          const dataTable =\n",
              "            await google.colab.kernel.invokeFunction('convertToInteractive',\n",
              "                                                     [key], {});\n",
              "          if (!dataTable) return;\n",
              "\n",
              "          const docLinkHtml = 'Like what you see? Visit the ' +\n",
              "            '<a target=\"_blank\" href=https://colab.research.google.com/notebooks/data_table.ipynb>data table notebook</a>'\n",
              "            + ' to learn more about interactive tables.';\n",
              "          element.innerHTML = '';\n",
              "          dataTable['output_type'] = 'display_data';\n",
              "          await google.colab.output.renderOutput(dataTable, element);\n",
              "          const docLink = document.createElement('div');\n",
              "          docLink.innerHTML = docLinkHtml;\n",
              "          element.appendChild(docLink);\n",
              "        }\n",
              "      </script>\n",
              "    </div>\n",
              "  </div>\n",
              "  "
            ]
          },
          "metadata": {},
          "execution_count": 189
        }
      ],
      "source": [
        "# importing librararies......\n",
        "import pandas as pd\n",
        "from sklearn.preprocessing import LabelEncoder\n",
        "from sklearn.preprocessing import StandardScaler\n",
        "from sklearn.model_selection import train_test_split\n",
        "import matplotlib.pyplot as plt\n",
        "from sklearn.neighbors import KNeighborsClassifier\n",
        "from sklearn.svm import SVC\n",
        "from  sklearn.naive_bayes import GaussianNB\n",
        "from sklearn.metrics import accuracy_score,ConfusionMatrixDisplay,classification_report\n",
        "from imblearn.over_sampling import SMOTE\n",
        "from imblearn.under_sampling import RandomUnderSampler\n",
        "import matplotlib.pyplot as plt\n",
        "df=pd.read_csv(\"/content/aug_train.csv\")\n",
        "df"
      ]
    },
    {
      "cell_type": "markdown",
      "source": [
        "IN this data set we are going to predict wether the person is looking for a job or not depending on the attributes "
      ],
      "metadata": {
        "id": "rGFP-GQ_G0Wc"
      }
    },
    {
      "cell_type": "code",
      "source": [
        "# To check for the null  values\n",
        "df.isna().sum()"
      ],
      "metadata": {
        "id": "DZNBa23vZOls",
        "colab": {
          "base_uri": "https://localhost:8080/"
        },
        "outputId": "83ffbc58-e86e-4966-e2ac-9e80c6cc0e77"
      },
      "execution_count": 190,
      "outputs": [
        {
          "output_type": "execute_result",
          "data": {
            "text/plain": [
              "enrollee_id                  0\n",
              "city                         0\n",
              "city_development_index       0\n",
              "gender                    4508\n",
              "relevent_experience          0\n",
              "enrolled_university        386\n",
              "education_level            460\n",
              "major_discipline          2813\n",
              "experience                  65\n",
              "company_size              5938\n",
              "company_type              6140\n",
              "last_new_job               423\n",
              "training_hours               0\n",
              "target                       0\n",
              "dtype: int64"
            ]
          },
          "metadata": {},
          "execution_count": 190
        }
      ]
    },
    {
      "cell_type": "code",
      "source": [
        "#to fill the missing values\n",
        "df[\"gender\"]=df[\"gender\"].fillna(df[\"gender\"].mode()[0])\n",
        "#df[\"enrolled_university\"].fillna(df[\"enrolled_university\"].mode()[0])\n",
        "lst=[\"enrolled_university\",\"education_level\",\"major_discipline\",\"experience\",\"company_size\",\"company_type\",\"last_new_job\"]\n",
        "for i in lst:\n",
        "  df[i]=df[i].fillna(df[i].mode()[0])\n"
      ],
      "metadata": {
        "id": "OQ_qGLv0LHfi"
      },
      "execution_count": 191,
      "outputs": []
    },
    {
      "cell_type": "code",
      "source": [
        "df.dtypes"
      ],
      "metadata": {
        "id": "rPvfogCVZRgq",
        "colab": {
          "base_uri": "https://localhost:8080/"
        },
        "outputId": "757962c6-e2fc-4bef-db71-a7a26b579a88"
      },
      "execution_count": 192,
      "outputs": [
        {
          "output_type": "execute_result",
          "data": {
            "text/plain": [
              "enrollee_id                 int64\n",
              "city                       object\n",
              "city_development_index    float64\n",
              "gender                     object\n",
              "relevent_experience        object\n",
              "enrolled_university        object\n",
              "education_level            object\n",
              "major_discipline           object\n",
              "experience                 object\n",
              "company_size               object\n",
              "company_type               object\n",
              "last_new_job               object\n",
              "training_hours              int64\n",
              "target                    float64\n",
              "dtype: object"
            ]
          },
          "metadata": {},
          "execution_count": 192
        }
      ]
    },
    {
      "cell_type": "code",
      "source": [
        "#in cities lets remove the \"city_\" and convert it into float\n",
        "df[\"city\"]=df[\"city\"].str.replace(\"city_\",\"\")\n",
        "df[\"city\"]=df[\"city\"].astype(float)"
      ],
      "metadata": {
        "id": "PBQqUBraN9YB"
      },
      "execution_count": 193,
      "outputs": []
    },
    {
      "cell_type": "code",
      "source": [
        "# now to convert the object values to numeric data type using label encoder\n",
        "\n",
        "le=LabelEncoder()\n",
        "lst_le=[\"gender\",\"relevent_experience\",\"gender\",\"relevent_experience\",\"enrolled_university\",\"education_level\",\"major_discipline\",\"experience\",\"company_size\",\"company_type\",\"last_new_job\"]\n",
        "for i in lst_le:\n",
        "  df[i]=le.fit_transform(df[i])\n"
      ],
      "metadata": {
        "id": "giah_G4hLDVz"
      },
      "execution_count": 194,
      "outputs": []
    },
    {
      "cell_type": "code",
      "source": [
        "df[\"education_level\"].isna().sum()"
      ],
      "metadata": {
        "colab": {
          "base_uri": "https://localhost:8080/"
        },
        "id": "GKjqAZf8Uuhx",
        "outputId": "b276c49d-ba85-45e8-806b-a8260413c80d"
      },
      "execution_count": 195,
      "outputs": [
        {
          "output_type": "execute_result",
          "data": {
            "text/plain": [
              "0"
            ]
          },
          "metadata": {},
          "execution_count": 195
        }
      ]
    },
    {
      "cell_type": "code",
      "source": [
        "df[\"relevent_experience\"].value_counts()"
      ],
      "metadata": {
        "colab": {
          "base_uri": "https://localhost:8080/"
        },
        "id": "DX3zVTYuPdYA",
        "outputId": "b756d2a4-51fd-456b-f5e4-8edbbe473168"
      },
      "execution_count": 196,
      "outputs": [
        {
          "output_type": "execute_result",
          "data": {
            "text/plain": [
              "0    13792\n",
              "1     5366\n",
              "Name: relevent_experience, dtype: int64"
            ]
          },
          "metadata": {},
          "execution_count": 196
        }
      ]
    },
    {
      "cell_type": "code",
      "source": [
        "df.isna().sum()"
      ],
      "metadata": {
        "colab": {
          "base_uri": "https://localhost:8080/"
        },
        "id": "N52n1v6eVClA",
        "outputId": "5aad0b07-6837-4ffa-ffc4-cbcc288d8dde"
      },
      "execution_count": 197,
      "outputs": [
        {
          "output_type": "execute_result",
          "data": {
            "text/plain": [
              "enrollee_id               0\n",
              "city                      0\n",
              "city_development_index    0\n",
              "gender                    0\n",
              "relevent_experience       0\n",
              "enrolled_university       0\n",
              "education_level           0\n",
              "major_discipline          0\n",
              "experience                0\n",
              "company_size              0\n",
              "company_type              0\n",
              "last_new_job              0\n",
              "training_hours            0\n",
              "target                    0\n",
              "dtype: int64"
            ]
          },
          "metadata": {},
          "execution_count": 197
        }
      ]
    },
    {
      "cell_type": "markdown",
      "source": [
        "so all the missing values are filled and string values are converted to intgers or float type"
      ],
      "metadata": {
        "id": "zxYiBm7wVIw5"
      }
    },
    {
      "cell_type": "code",
      "source": [
        "df.count()"
      ],
      "metadata": {
        "colab": {
          "base_uri": "https://localhost:8080/"
        },
        "id": "FuOX_74hVjKg",
        "outputId": "4c7c7197-00bd-4fa3-ffc3-04ee5646cc3e"
      },
      "execution_count": 198,
      "outputs": [
        {
          "output_type": "execute_result",
          "data": {
            "text/plain": [
              "enrollee_id               19158\n",
              "city                      19158\n",
              "city_development_index    19158\n",
              "gender                    19158\n",
              "relevent_experience       19158\n",
              "enrolled_university       19158\n",
              "education_level           19158\n",
              "major_discipline          19158\n",
              "experience                19158\n",
              "company_size              19158\n",
              "company_type              19158\n",
              "last_new_job              19158\n",
              "training_hours            19158\n",
              "target                    19158\n",
              "dtype: int64"
            ]
          },
          "metadata": {},
          "execution_count": 198
        }
      ]
    },
    {
      "cell_type": "code",
      "source": [
        "df[\"target\"].value_counts()"
      ],
      "metadata": {
        "colab": {
          "base_uri": "https://localhost:8080/"
        },
        "id": "8Y2k6Rx7d8zI",
        "outputId": "75ac6f79-beec-4d3f-d54d-612a36d9640b"
      },
      "execution_count": 199,
      "outputs": [
        {
          "output_type": "execute_result",
          "data": {
            "text/plain": [
              "0.0    14381\n",
              "1.0     4777\n",
              "Name: target, dtype: int64"
            ]
          },
          "metadata": {},
          "execution_count": 199
        }
      ]
    },
    {
      "cell_type": "code",
      "source": [
        "newlabels=[\"female\",\"male\"]\n",
        "color=[\"#FFC0CB\",\"#89CFF0\"]\n",
        "plt.pie(df[\"target\"].value_counts(),labels=newlabels,colors=color)\n",
        "plt.legend()\n",
        "plt.show()"
      ],
      "metadata": {
        "colab": {
          "base_uri": "https://localhost:8080/",
          "height": 248
        },
        "id": "RcigVMKYWBj_",
        "outputId": "1243e88f-0cd8-4aba-f0fa-3a748e8e4aac"
      },
      "execution_count": 200,
      "outputs": [
        {
          "output_type": "display_data",
          "data": {
            "text/plain": [
              "<Figure size 432x288 with 1 Axes>"
            ],
            "image/png": "[encoded data removed]"
          },
          "metadata": {}
        }
      ]
    },
    {
      "cell_type": "markdown",
      "source": [
        "# here we can see that the data is imbalanced so we can use either over/under sampling\n",
        "\n",
        "before that we can try out the dataset without data sampling to check out the diiference in output"
      ],
      "metadata": {
        "id": "JuSrgji6WpXg"
      }
    },
    {
      "cell_type": "code",
      "source": [
        "#splitting dataset as attributes \"X\" and output as \" y \"\n",
        "X=df.iloc[:,1:13]\n",
        "y=df.iloc[:,-1]\n",
        "y"
      ],
      "metadata": {
        "colab": {
          "base_uri": "https://localhost:8080/"
        },
        "id": "zeN-mgUwXA0v",
        "outputId": "cf2899cc-b4e3-47fa-8495-ded70772b208"
      },
      "execution_count": 201,
      "outputs": [
        {
          "output_type": "execute_result",
          "data": {
            "text/plain": [
              "0        1.0\n",
              "1        0.0\n",
              "2        0.0\n",
              "3        1.0\n",
              "4        0.0\n",
              "        ... \n",
              "19153    1.0\n",
              "19154    1.0\n",
              "19155    0.0\n",
              "19156    0.0\n",
              "19157    0.0\n",
              "Name: target, Length: 19158, dtype: float64"
            ]
          },
          "metadata": {},
          "execution_count": 201
        }
      ]
    },
    {
      "cell_type": "code",
      "source": [
        "# scaling values using minmax or svc\n",
        "sc=StandardScaler()\n",
        "X_scaled=sc.fit_transform(X)\n",
        "X_scaled"
      ],
      "metadata": {
        "colab": {
          "base_uri": "https://localhost:8080/"
        },
        "id": "lpq-FPr5ZyS-",
        "outputId": "ffc31c79-4ee6-4f92-ff06-edf491707f45"
      },
      "execution_count": 202,
      "outputs": [
        {
          "output_type": "execute_result",
          "data": {
            "text/plain": [
              "array([[ 0.49278091,  0.73891926,  0.20423458, ...,  0.3935561 ,\n",
              "        -0.90218896, -0.4889846 ],\n",
              "       [-0.86461617, -0.42840976,  0.20423458, ...,  0.3935561 ,\n",
              "         1.16436445, -0.30582494],\n",
              "       [-1.27398989, -1.66059039,  0.20423458, ...,  0.3935561 ,\n",
              "         1.68100281,  0.29360665],\n",
              "       ...,\n",
              "       [ 0.49278091,  0.73891926,  0.20423458, ...,  0.3935561 ,\n",
              "         0.6477261 , -0.35577758],\n",
              "       [-0.32596653, -0.21764202,  0.20423458, ...,  0.3935561 ,\n",
              "        -0.38555061,  0.52671894],\n",
              "       [-0.28287456,  0.21199991,  0.20423458, ...,  0.3935561 ,\n",
              "        -0.90218896,  1.02624527]])"
            ]
          },
          "metadata": {},
          "execution_count": 202
        }
      ]
    },
    {
      "cell_type": "code",
      "source": [
        "# #scaling using minmax method\n",
        "# from sklearn.preprocessing import MinMaxScaler\n",
        "# minmax=MinMaxScaler()\n",
        "#X_scaled=minmax.fit_transform(X)\n",
        "#X_scaled"
      ],
      "metadata": {
        "id": "k0tFRrHBaZ4n"
      },
      "execution_count": 203,
      "outputs": []
    },
    {
      "cell_type": "code",
      "source": [
        "# splitting datas into train set and test set\n",
        "\n",
        "X_train,X_test,y_train,y_test=train_test_split(X_scaled,y,test_size=40,random_state=80)\n"
      ],
      "metadata": {
        "id": "Eq5sj77_bGpv"
      },
      "execution_count": 204,
      "outputs": []
    },
    {
      "cell_type": "code",
      "source": [
        "# just to plot x and y\n",
        "\n",
        "plt.plot(X_train,y_train)\n"
      ],
      "metadata": {
        "colab": {
          "base_uri": "https://localhost:8080/",
          "height": 473
        },
        "id": "YBb-HLr8X5o4",
        "outputId": "bf6e5164-4c5d-48a1-efd4-979201c565b4"
      },
      "execution_count": 205,
      "outputs": [
        {
          "output_type": "execute_result",
          "data": {
            "text/plain": [
              "[<matplotlib.lines.Line2D at 0x7ff1aa5f9910>,\n",
              " <matplotlib.lines.Line2D at 0x7ff1aa5f9970>,\n",
              " <matplotlib.lines.Line2D at 0x7ff1aa5f9a90>,\n",
              " <matplotlib.lines.Line2D at 0x7ff1aa5f9bb0>,\n",
              " <matplotlib.lines.Line2D at 0x7ff1aa5f9cd0>,\n",
              " <matplotlib.lines.Line2D at 0x7ff1aa5f9df0>,\n",
              " <matplotlib.lines.Line2D at 0x7ff1aa5f9f10>,\n",
              " <matplotlib.lines.Line2D at 0x7ff1aa606070>,\n",
              " <matplotlib.lines.Line2D at 0x7ff1aa606190>,\n",
              " <matplotlib.lines.Line2D at 0x7ff1aa6062b0>,\n",
              " <matplotlib.lines.Line2D at 0x7ff1aa5f9940>,\n",
              " <matplotlib.lines.Line2D at 0x7ff1aa6063d0>]"
            ]
          },
          "metadata": {},
          "execution_count": 205
        },
        {
          "output_type": "display_data",
          "data": {
            "text/plain": [
              "<Figure size 432x288 with 1 Axes>"
            ],
            "image/png": "[encoded data removed]"
          },
          "metadata": {
            "needs_background": "light"
          }
        }
      ]
    },
    {
      "cell_type": "markdown",
      "source": [
        "Now we can use knn ,svm,naive bayes"
      ],
      "metadata": {
        "id": "8zrGgcordkEW"
      }
    },
    {
      "cell_type": "markdown",
      "source": [
        "#applying algorithm NAIVE BAYES ALGORITHM\n",
        "GUASSIAN NAIVE BAYES---(CONTINUES VALUES)\n",
        "MULTINOMIAL NB -------- (DISCRETE VALUES)\n",
        "BERNOULI NB --------------( BOOLEAN VALUES)\n",
        "\n",
        "\n",
        "SVC\n",
        "# kernal can be ,rbf,linear,poly"
      ],
      "metadata": {
        "id": "e-x6H4Ur86f9"
      }
    },
    {
      "cell_type": "code",
      "source": [
        "knn=KNeighborsClassifier(n_neighbors=3)\n",
        "sv=SVC(kernel=\"poly\")\n",
        "nb=GaussianNB()\n",
        "lst=[knn,sv,nb]\n",
        "for model in lst:\n",
        "  print(\"\\n model---\",model)\n",
        "  model.fit(X_train,y_train)\n",
        "  y_pred=model.predict(X_test)\n",
        "  print(\"Accuracy:\",accuracy_score(y_test,y_pred)*100)\n",
        "  print(\"Classification report:\",classification_report(y_test,y_pred))\n",
        " # print(\"Confusion_Matrix \\n\",ConfusionMatrixDisplay.from_predictions(y_test,y_pred))\n",
        "  print(\"__\"*100)\n"
      ],
      "metadata": {
        "colab": {
          "base_uri": "https://localhost:8080/"
        },
        "id": "zh0VKr78dZh-",
        "outputId": "b8574d89-8e5b-4ccd-98cd-ab096ff1c0e1"
      },
      "execution_count": 188,
      "outputs": [
        {
          "output_type": "stream",
          "name": "stdout",
          "text": [
            "\n",
            " model--- KNeighborsClassifier(n_neighbors=3)\n",
            "Accuracy: 67.5\n",
            "Classification report:               precision    recall  f1-score   support\n",
            "\n",
            "         0.0       0.76      0.79      0.77        28\n",
            "         1.0       0.45      0.42      0.43        12\n",
            "\n",
            "    accuracy                           0.68        40\n",
            "   macro avg       0.61      0.60      0.60        40\n",
            "weighted avg       0.67      0.68      0.67        40\n",
            "\n",
            "________________________________________________________________________________________________________________________________________________________________________________________________________\n",
            "\n",
            " model--- SVC(kernel='poly')\n",
            "Accuracy: 72.5\n",
            "Classification report:               precision    recall  f1-score   support\n",
            "\n",
            "         0.0       0.76      0.89      0.82        28\n",
            "         1.0       0.57      0.33      0.42        12\n",
            "\n",
            "    accuracy                           0.73        40\n",
            "   macro avg       0.66      0.61      0.62        40\n",
            "weighted avg       0.70      0.72      0.70        40\n",
            "\n",
            "________________________________________________________________________________________________________________________________________________________________________________________________________\n",
            "\n",
            " model--- GaussianNB()\n",
            "Accuracy: 72.5\n",
            "Classification report:               precision    recall  f1-score   support\n",
            "\n",
            "         0.0       0.77      0.86      0.81        28\n",
            "         1.0       0.56      0.42      0.48        12\n",
            "\n",
            "    accuracy                           0.73        40\n",
            "   macro avg       0.66      0.64      0.64        40\n",
            "weighted avg       0.71      0.72      0.71        40\n",
            "\n",
            "________________________________________________________________________________________________________________________________________________________________________________________________________\n"
          ]
        }
      ]
    },
    {
      "cell_type": "markdown",
      "source": [
        "# now we know that the data is imbalanced"
      ],
      "metadata": {
        "id": "ipj8t19sFNOY"
      }
    },
    {
      "cell_type": "code",
      "source": [
        "df[\"target\"].value_counts()"
      ],
      "metadata": {
        "colab": {
          "base_uri": "https://localhost:8080/"
        },
        "id": "O4eGMWAZAIz-",
        "outputId": "b5d7f3e2-84ee-4b12-8d08-0da43f667f31"
      },
      "execution_count": 206,
      "outputs": [
        {
          "output_type": "execute_result",
          "data": {
            "text/plain": [
              "0.0    14381\n",
              "1.0     4777\n",
              "Name: target, dtype: int64"
            ]
          },
          "metadata": {},
          "execution_count": 206
        }
      ]
    },
    {
      "cell_type": "markdown",
      "source": [
        "we can either use under damping or over damping"
      ],
      "metadata": {
        "id": "76CtpSCpFZTm"
      }
    },
    {
      "cell_type": "markdown",
      "source": [
        "# using over sampling technique"
      ],
      "metadata": {
        "id": "gr-GZu7jF3Sn"
      }
    },
    {
      "cell_type": "code",
      "source": [
        "os=SMOTE(random_state=2)\n",
        "X_os,y_os=os.fit_resample(X_scaled,y)\n",
        "y_os.value_counts()"
      ],
      "metadata": {
        "colab": {
          "base_uri": "https://localhost:8080/"
        },
        "id": "hCWTwKTsF28p",
        "outputId": "b2378faa-2902-4c0f-8b3b-0d29504107e8"
      },
      "execution_count": 207,
      "outputs": [
        {
          "output_type": "execute_result",
          "data": {
            "text/plain": [
              "1.0    14381\n",
              "0.0    14381\n",
              "Name: target, dtype: int64"
            ]
          },
          "metadata": {},
          "execution_count": 207
        }
      ]
    },
    {
      "cell_type": "code",
      "source": [
        "newlabels=[\"female\",\"male\"]\n",
        "color=[\"#FFC0CB\",\"#89CFF0\"]\n",
        "plt.pie(y_os.value_counts(),labels=newlabels,colors=color,autopct='%1.2f%%')\n",
        "plt.legend()\n",
        "plt.show()"
      ],
      "metadata": {
        "colab": {
          "base_uri": "https://localhost:8080/",
          "height": 248
        },
        "id": "Hy7RWtikjEmz",
        "outputId": "ba23770d-88e9-46f0-bcfc-9b38721463ce"
      },
      "execution_count": 218,
      "outputs": [
        {
          "output_type": "display_data",
          "data": {
            "text/plain": [
              "<Figure size 432x288 with 1 Axes>"
            ],
            "image/png": "[encoded data removed]"
          },
          "metadata": {}
        }
      ]
    },
    {
      "cell_type": "code",
      "source": [
        "# splitting datas as train data and test data\n",
        "\n",
        "X_train_os,X_test_os,y_train_os,y_test_os=train_test_split(X_os,y_os,test_size=40,random_state=80)"
      ],
      "metadata": {
        "id": "Yrxep6XwHIDm"
      },
      "execution_count": 208,
      "outputs": []
    },
    {
      "cell_type": "code",
      "source": [
        "knn=KNeighborsClassifier(n_neighbors=3)\n",
        "sv=SVC(kernel=\"poly\")\n",
        "nb=GaussianNB()\n",
        "lst=[knn,sv,nb]\n",
        "for model in lst:\n",
        "  print(\"\\n model---\",model)\n",
        "  model.fit(X_train_os,y_train_os)\n",
        "  y_pred_os=model.predict(X_test_os)\n",
        "  print(\"Accuracy\",accuracy_score(y_test_os,y_pred_os)*100)\n",
        "  print(\"Classification report:\",classification_report(y_test_os,y_pred_os))\n",
        " #print(\"Confusion_Matrix \\n\",ConfusionMatrixDisplay.from_predictions(y_test,y_pred))\n",
        "  print(\"__\"*100)\n"
      ],
      "metadata": {
        "colab": {
          "base_uri": "https://localhost:8080/"
        },
        "id": "CUtfigDFHytM",
        "outputId": "795590aa-2129-49d7-cb7d-5ff263bab9e6"
      },
      "execution_count": 209,
      "outputs": [
        {
          "output_type": "stream",
          "name": "stdout",
          "text": [
            "\n",
            " model--- KNeighborsClassifier(n_neighbors=3)\n",
            "Accuracy 77.5\n",
            "Classification report:               precision    recall  f1-score   support\n",
            "\n",
            "         0.0       0.93      0.62      0.74        21\n",
            "         1.0       0.69      0.95      0.80        19\n",
            "\n",
            "    accuracy                           0.78        40\n",
            "   macro avg       0.81      0.78      0.77        40\n",
            "weighted avg       0.82      0.78      0.77        40\n",
            "\n",
            "________________________________________________________________________________________________________________________________________________________________________________________________________\n",
            "\n",
            " model--- SVC(kernel='poly')\n",
            "Accuracy 77.5\n",
            "Classification report:               precision    recall  f1-score   support\n",
            "\n",
            "         0.0       0.75      0.86      0.80        21\n",
            "         1.0       0.81      0.68      0.74        19\n",
            "\n",
            "    accuracy                           0.78        40\n",
            "   macro avg       0.78      0.77      0.77        40\n",
            "weighted avg       0.78      0.78      0.77        40\n",
            "\n",
            "________________________________________________________________________________________________________________________________________________________________________________________________________\n",
            "\n",
            " model--- GaussianNB()\n",
            "Accuracy 77.5\n",
            "Classification report:               precision    recall  f1-score   support\n",
            "\n",
            "         0.0       0.75      0.86      0.80        21\n",
            "         1.0       0.81      0.68      0.74        19\n",
            "\n",
            "    accuracy                           0.78        40\n",
            "   macro avg       0.78      0.77      0.77        40\n",
            "weighted avg       0.78      0.78      0.77        40\n",
            "\n",
            "________________________________________________________________________________________________________________________________________________________________________________________________________\n"
          ]
        }
      ]
    },
    {
      "cell_type": "markdown",
      "source": [
        "# now performing Under sampling method"
      ],
      "metadata": {
        "id": "At8Cb75pISPs"
      }
    },
    {
      "cell_type": "code",
      "source": [
        "us=RandomUnderSampler()\n",
        "X_us,y_us=us.fit_resample(X_scaled,y)\n",
        "y_us.value_counts()"
      ],
      "metadata": {
        "colab": {
          "base_uri": "https://localhost:8080/"
        },
        "id": "SN3_jc2iIRy_",
        "outputId": "7d607949-cdc2-45cd-a17b-a33ecf48d816"
      },
      "execution_count": 210,
      "outputs": [
        {
          "output_type": "execute_result",
          "data": {
            "text/plain": [
              "0.0    4777\n",
              "1.0    4777\n",
              "Name: target, dtype: int64"
            ]
          },
          "metadata": {},
          "execution_count": 210
        }
      ]
    },
    {
      "cell_type": "code",
      "source": [
        "newlabels=[\"female\",\"male\"]\n",
        "color=[\"#FFC0CB\",\"#89CFF0\"]\n",
        "plt.pie(y_us.value_counts(),labels=newlabels,colors=color,autopct='%1.2f%%')\n",
        "plt.legend()\n",
        "plt.show()"
      ],
      "metadata": {
        "colab": {
          "base_uri": "https://localhost:8080/",
          "height": 248
        },
        "id": "Wq9UQ3ANjqNk",
        "outputId": "db12d514-da27-4a24-d2db-7d16095355c7"
      },
      "execution_count": 217,
      "outputs": [
        {
          "output_type": "display_data",
          "data": {
            "text/plain": [
              "<Figure size 432x288 with 1 Axes>"
            ],
            "image/png": "[encoded data removed]"
          },
          "metadata": {}
        }
      ]
    },
    {
      "cell_type": "code",
      "source": [
        "#Splitting into test and train data\n",
        "X_train_us,X_test_us,y_train_us,y_test_us=train_test_split(X_us,y_us,test_size=40,random_state=80)\n"
      ],
      "metadata": {
        "id": "23cxsBXjJAok"
      },
      "execution_count": 211,
      "outputs": []
    },
    {
      "cell_type": "code",
      "source": [
        "# trainning datastet\n",
        "knn=KNeighborsClassifier(n_neighbors=3)\n",
        "sv=SVC(kernel=\"poly\")\n",
        "nb=GaussianNB()\n",
        "lst=[knn,sv,nb]\n",
        "for model in lst:\n",
        "  print(\"\\n model---\",model)\n",
        "  model.fit(X_train_us,y_train_us)\n",
        "  y_pred_us=model.predict(X_test_us)\n",
        "  print(\"Accuracy:\",accuracy_score(y_test_us,y_pred_us)*100)\n",
        "  print(\"Classification report:\",classification_report(y_test_us,y_pred_us))\n",
        " # print(\"Confusion_Matrix \\n\",ConfusionMatrixDisplay.from_predictions(y_test,y_pred))\n",
        " \n",
        "  print(\"__\"*100)\n"
      ],
      "metadata": {
        "colab": {
          "base_uri": "https://localhost:8080/"
        },
        "id": "keRpxeseJdQO",
        "outputId": "f6636738-8e3a-494a-ade6-1a3c55cd13c3"
      },
      "execution_count": 212,
      "outputs": [
        {
          "output_type": "stream",
          "name": "stdout",
          "text": [
            "\n",
            " model--- KNeighborsClassifier(n_neighbors=3)\n",
            "Accuracy: 72.5\n",
            "Classification report:               precision    recall  f1-score   support\n",
            "\n",
            "         0.0       0.73      0.83      0.78        23\n",
            "         1.0       0.71      0.59      0.65        17\n",
            "\n",
            "    accuracy                           0.73        40\n",
            "   macro avg       0.72      0.71      0.71        40\n",
            "weighted avg       0.72      0.72      0.72        40\n",
            "\n",
            "________________________________________________________________________________________________________________________________________________________________________________________________________\n",
            "\n",
            " model--- SVC(kernel='poly')\n",
            "Accuracy: 72.5\n",
            "Classification report:               precision    recall  f1-score   support\n",
            "\n",
            "         0.0       0.75      0.78      0.77        23\n",
            "         1.0       0.69      0.65      0.67        17\n",
            "\n",
            "    accuracy                           0.73        40\n",
            "   macro avg       0.72      0.71      0.72        40\n",
            "weighted avg       0.72      0.72      0.72        40\n",
            "\n",
            "________________________________________________________________________________________________________________________________________________________________________________________________________\n",
            "\n",
            " model--- GaussianNB()\n",
            "Accuracy: 65.0\n",
            "Classification report:               precision    recall  f1-score   support\n",
            "\n",
            "         0.0       0.70      0.70      0.70        23\n",
            "         1.0       0.59      0.59      0.59        17\n",
            "\n",
            "    accuracy                           0.65        40\n",
            "   macro avg       0.64      0.64      0.64        40\n",
            "weighted avg       0.65      0.65      0.65        40\n",
            "\n",
            "________________________________________________________________________________________________________________________________________________________________________________________________________\n"
          ]
        }
      ]
    },
    {
      "cell_type": "code",
      "source": [
        "# plotting pie ch\n",
        "a1=accuracy_score(y_test,y_pred)\n",
        "a2=accuracy_score(y_test_os,y_pred_os)\n",
        "a3=accuracy_score(y_test_us,y_pred_us)\n",
        "A=[a1,a2,a3]\n",
        "print(A)\n",
        "# y=[70,80,100]\n",
        "# plt.bar(y_test,y_pred)\n",
        "# plt.show()"
      ],
      "metadata": {
        "colab": {
          "base_uri": "https://localhost:8080/"
        },
        "id": "7G4oULq-KDFM",
        "outputId": "f0bcd2c9-b6b5-4d87-870f-43ccda9b3495"
      },
      "execution_count": 213,
      "outputs": [
        {
          "output_type": "stream",
          "name": "stdout",
          "text": [
            "[0.725, 0.775, 0.65]\n"
          ]
        }
      ]
    }
  ]
}